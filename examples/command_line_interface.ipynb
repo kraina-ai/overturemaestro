{
 "cells": [
  {
   "cell_type": "markdown",
   "metadata": {},
   "source": [
    "# OvertureMaestro Command Line Interface\n",
    "\n",
    "**OvertureMaestro** contains a CLI for users convenience. It is **not** installed by default when installed using `pip install overturemaestro`.\n",
    "\n",
    "To include the CLI, **OvertureMaestro** has to be installed with additional group called `cli`: `pip install overturemaestro[cli]`.\n",
    "\n",
    "CLI is based on the `typer` library and exposes almost all of the features implemented in the Python API.\n",
    "\n",
    "After installation, the `OvertureMaestro` (or `overturemaestro`) command will be available in the shell.\n",
    "\n",
    "Each command error returns a verbose description what went wrong."
   ]
  },
  {
   "cell_type": "code",
   "execution_count": null,
   "metadata": {},
   "outputs": [],
   "source": [
    "# Extend the default console width from 80 characters\n",
    "import os\n",
    "\n",
    "os.environ[\"COLUMNS\"] = \"160\""
   ]
  },
  {
   "cell_type": "markdown",
   "metadata": {},
   "source": [
    "## Basic usage\n",
    "\n",
    "By default, the overturemaestro requires just the path to the `PBF` file. Without it, there will be an error."
   ]
  },
  {
   "cell_type": "code",
   "execution_count": null,
   "metadata": {},
   "outputs": [],
   "source": [
    "! OvertureMaestro"
   ]
  },
  {
   "cell_type": "markdown",
   "metadata": {},
   "source": [
    "Let's download a small extract of buildings in Monaco"
   ]
  },
  {
   "cell_type": "code",
   "execution_count": null,
   "metadata": {
    "vscode": {
     "languageId": "shellscript"
    }
   },
   "outputs": [],
   "source": [
    "! OvertureMaestro buildings building --geom-filter-bbox 7.416486,43.730886,7.421931,43.733507"
   ]
  },
  {
   "cell_type": "markdown",
   "metadata": {},
   "source": [
    "Second execution of this command will immediately return a path to the previously generated file."
   ]
  },
  {
   "cell_type": "code",
   "execution_count": null,
   "metadata": {
    "vscode": {
     "languageId": "shellscript"
    }
   },
   "outputs": [],
   "source": [
    "! OvertureMaestro buildings building --geom-filter-bbox 7.416486,43.730886,7.421931,43.733507"
   ]
  },
  {
   "cell_type": "markdown",
   "metadata": {},
   "source": [
    "To force the regeneration of the GeoParquet file, add the `--ignore-cache` flag (or `--no-cache`) to the command."
   ]
  },
  {
   "cell_type": "code",
   "execution_count": null,
   "metadata": {
    "vscode": {
     "languageId": "shellscript"
    }
   },
   "outputs": [],
   "source": [
    "! OvertureMaestro buildings building --geom-filter-bbox 7.416486,43.730886,7.421931,43.733507 --ignore-cache"
   ]
  },
  {
   "cell_type": "markdown",
   "metadata": {},
   "source": [
    "You can also set the output file path using `-o` (or `--output`) option."
   ]
  },
  {
   "cell_type": "code",
   "execution_count": null,
   "metadata": {
    "vscode": {
     "languageId": "shellscript"
    }
   },
   "outputs": [],
   "source": [
    "! OvertureMaestro buildings building --geom-filter-bbox 7.416486,43.730886,7.421931,43.733507 -o monaco_buildings.parquet"
   ]
  },
  {
   "cell_type": "markdown",
   "metadata": {},
   "source": [
    "You can quickly inspect the data using [`pixel-map`](https://github.com/RaczeQ/pixel-map) tool that displays the geo data in the terminal."
   ]
  },
  {
   "cell_type": "code",
   "execution_count": null,
   "metadata": {
    "vscode": {
     "languageId": "shellscript"
    }
   },
   "outputs": [],
   "source": [
    "! pixel-map monaco_buildings.parquet --width 82 --height 23 --renderer ascii-bw"
   ]
  },
  {
   "cell_type": "markdown",
   "metadata": {},
   "source": [
    "## Help command\n",
    "\n",
    "To get the full description of all arguments of the OvertureMaestro command, you can use the `--help` (or `-h`) parameter."
   ]
  },
  {
   "cell_type": "code",
   "execution_count": null,
   "metadata": {
    "vscode": {
     "languageId": "shellscript"
    }
   },
   "outputs": [],
   "source": [
    "! OvertureMaestro --help"
   ]
  },
  {
   "cell_type": "markdown",
   "metadata": {},
   "source": [
    "## Geometry filters\n",
    "\n",
    "`OvertureMaestro` will automatically download required data based on multiple geometry filters:\n",
    "- Text to geocode using Nominatim\n",
    "- WKT geometry\n",
    "- GeoJSON geometry\n",
    "- Geometry file path\n",
    "- H3 spatial index\n",
    "- Geohash spatial index\n",
    "- S2 spatial index\n",
    "\n",
    "`OvertureMaestro` will raise an error if provided geometry has parts without area (such as Points, LineStrings or empty geometry)."
   ]
  },
  {
   "cell_type": "markdown",
   "metadata": {},
   "source": [
    "Let's see the example based on Monaco region.\n",
    "\n",
    "First, we will visualise multiple filters on the map."
   ]
  },
  {
   "cell_type": "code",
   "execution_count": null,
   "metadata": {},
   "outputs": [],
   "source": [
    "import geopandas as gpd\n",
    "\n",
    "from overturemaestro.cli import (\n",
    "    BboxGeometryParser,\n",
    "    GeocodeGeometryParser,\n",
    "    GeohashGeometryParser,\n",
    "    GeoJsonGeometryParser,\n",
    "    H3GeometryParser,\n",
    "    S2GeometryParser,\n",
    "    WktGeometryParser,\n",
    ")"
   ]
  },
  {
   "cell_type": "code",
   "execution_count": null,
   "metadata": {},
   "outputs": [],
   "source": [
    "bbox_string = \"7.416486,43.730886,7.421931,43.733507\"\n",
    "geocode_string = \"Monaco-Ville, Monaco\"\n",
    "geojson_string = \"\"\"{\"type\":\"Feature\",\"geometry\":{\"coordinates\":[[[7.416,43.734],[7.416,43.731],[7.421,43.731],[7.421,43.734],[7.416,43.734]]],\"type\":\"Polygon\"}}\"\"\"\n",
    "wkt_string = \"POLYGON ((7.414 43.735, 7.414 43.732, 7.419 43.732, 7.419 43.735, 7.414 43.735))\"\n",
    "h3_string = \"893969a4037ffff\"\n",
    "geohash_string = \"spv2bcs\"\n",
    "s2_string = \"12cdc28dc\""
   ]
  },
  {
   "cell_type": "code",
   "execution_count": null,
   "metadata": {},
   "outputs": [],
   "source": [
    "geometry_types = [\"BBox\", \"Geocode\", \"GeoJSON\", \"WKT\", \"H3\", \"GeoHash\", \"S2\"]\n",
    "geometries = [\n",
    "    BboxGeometryParser().convert(bbox_string),\n",
    "    GeocodeGeometryParser().convert(geocode_string),\n",
    "    GeoJsonGeometryParser().convert(geojson_string),\n",
    "    WktGeometryParser().convert(wkt_string),\n",
    "    H3GeometryParser().convert(h3_string),\n",
    "    GeohashGeometryParser().convert(geohash_string),\n",
    "    S2GeometryParser().convert(s2_string),\n",
    "]\n",
    "gpd.GeoDataFrame(\n",
    "    data=dict(type=geometry_types),\n",
    "    geometry=geometries,\n",
    "    crs=4326,\n",
    ").explore(column=\"type\", tiles=\"CartoDB positron\")"
   ]
  },
  {
   "cell_type": "markdown",
   "metadata": {},
   "source": [
    "Now we will execute each filter and let OvertureMaestro find required region on its own.\n",
    "\n",
    "During first execution, OvertureMaestro will cache three PBF files sources locally. This operation takes some time.\n",
    "\n",
    "The `--silent` flag will disable the progress output to the terminal."
   ]
  },
  {
   "cell_type": "code",
   "execution_count": null,
   "metadata": {
    "vscode": {
     "languageId": "shellscript"
    }
   },
   "outputs": [],
   "source": [
    "! OvertureMaestro buildings building --geom-filter-bbox 7.416486,43.730886,7.421931,43.733507 --silent --output files/bbox_example.parquet"
   ]
  },
  {
   "cell_type": "markdown",
   "metadata": {},
   "source": [
    "### Geocoding"
   ]
  },
  {
   "cell_type": "code",
   "execution_count": null,
   "metadata": {
    "vscode": {
     "languageId": "shellscript"
    }
   },
   "outputs": [],
   "source": [
    "! OvertureMaestro buildings building --geom-filter-geocode 'Monaco-Ville, Monaco' --silent --output files/geocode_example.parquet"
   ]
  },
  {
   "cell_type": "markdown",
   "metadata": {},
   "source": [
    "### GeoJSON"
   ]
  },
  {
   "cell_type": "code",
   "execution_count": null,
   "metadata": {
    "vscode": {
     "languageId": "shellscript"
    }
   },
   "outputs": [],
   "source": [
    "! OvertureMaestro buildings building \\\n",
    "    --geom-filter-geojson '{\"type\":\"Feature\",\"geometry\":{\"coordinates\":[[[7.416,43.734],[7.416,43.731],[7.421,43.731],[7.421,43.734],[7.416,43.734]]],\"type\":\"Polygon\"}}' \\\n",
    "    --silent --output files/geojson_example.parquet"
   ]
  },
  {
   "cell_type": "markdown",
   "metadata": {},
   "source": [
    "### Geohash"
   ]
  },
  {
   "cell_type": "code",
   "execution_count": null,
   "metadata": {
    "vscode": {
     "languageId": "shellscript"
    }
   },
   "outputs": [],
   "source": [
    "! OvertureMaestro buildings building --geom-filter-index-geohash spv2bcs --silent --output files/geohash_example.parquet"
   ]
  },
  {
   "cell_type": "markdown",
   "metadata": {},
   "source": [
    "### H3"
   ]
  },
  {
   "cell_type": "code",
   "execution_count": null,
   "metadata": {
    "vscode": {
     "languageId": "shellscript"
    }
   },
   "outputs": [],
   "source": [
    "! OvertureMaestro buildings building --geom-filter-index-h3 893969a4037ffff --silent --output files/h3_example.parquet"
   ]
  },
  {
   "cell_type": "markdown",
   "metadata": {},
   "source": [
    "### S2"
   ]
  },
  {
   "cell_type": "code",
   "execution_count": null,
   "metadata": {
    "vscode": {
     "languageId": "shellscript"
    }
   },
   "outputs": [],
   "source": [
    "! OvertureMaestro buildings building --geom-filter-index-s2 12cdc28dc --silent --output files/s2_example.parquet"
   ]
  },
  {
   "cell_type": "markdown",
   "metadata": {},
   "source": [
    "### WKT"
   ]
  },
  {
   "cell_type": "code",
   "execution_count": null,
   "metadata": {
    "vscode": {
     "languageId": "shellscript"
    }
   },
   "outputs": [],
   "source": [
    "! OvertureMaestro buildings building --geom-filter-wkt 'POLYGON ((7.414 43.735, 7.414 43.732, 7.419 43.732, 7.419 43.735, 7.414 43.735))' \\\n",
    "    --silent --output files/wkt_example.parquet"
   ]
  },
  {
   "cell_type": "markdown",
   "metadata": {},
   "source": [
    "Plot all results for comparison"
   ]
  },
  {
   "cell_type": "code",
   "execution_count": null,
   "metadata": {},
   "outputs": [],
   "source": [
    "import matplotlib.patches as mpatches\n",
    "import matplotlib.pyplot as plt\n",
    "\n",
    "fig, axs = plt.subplots(2, 4, sharex=True, sharey=True, figsize=(10, 5))\n",
    "\n",
    "for idx, (geometry_type, geometry) in enumerate(zip(geometry_types, geometries)):\n",
    "    ax = axs[idx // 4, idx % 4]\n",
    "    gdf = gpd.read_parquet(f\"files/{geometry_type.lower()}_example.parquet\")\n",
    "    gdf.plot(ax=ax, markersize=1, zorder=1, alpha=0.8)\n",
    "    gdf.boundary.plot(ax=ax, markersize=0, zorder=1, alpha=0.8)\n",
    "    gpd.GeoSeries([geometry], crs=4326).plot(\n",
    "        ax=ax,\n",
    "        color=(0, 0, 0, 0),\n",
    "        zorder=2,\n",
    "        hatch=\"///\",\n",
    "        edgecolor=\"orange\",\n",
    "        linewidth=1.5,\n",
    "    )\n",
    "    ax.set_title(geometry_type)\n",
    "\n",
    "axs[1, 3].set_axis_off()\n",
    "\n",
    "blue_patch = mpatches.Patch(color=\"C0\", alpha=0.8, label=\"OSM features\")\n",
    "orange_patch = mpatches.Patch(\n",
    "    facecolor=(0, 0, 0, 0), edgecolor=\"orange\", hatch=\"///\", linewidth=1.5, label=\"Geometry filter\"\n",
    ")\n",
    "fig.legend(handles=[blue_patch, orange_patch], bbox_to_anchor=(0.98, 0.35))\n",
    "\n",
    "fig.tight_layout()"
   ]
  },
  {
   "cell_type": "markdown",
   "metadata": {},
   "source": [
    "## Theme and type \n",
    "\n",
    "**Overture Maps** data uses `themes` and `types` to partition the dataset by function. User can retrieve this list for any available release version supported by `OvertureMaestro`.\n",
    "\n",
    "Full definition is explained in the [official schema documentation](https://docs.overturemaps.org/schema/concepts/)."
   ]
  },
  {
   "cell_type": "markdown",
   "metadata": {},
   "source": [
    "### Displaying available extracts\n",
    "\n",
    "CLI exposes a dedicated flag `--show-extracts` (or `--show-osm-extracts`) for display a list of available extracts.\n",
    "\n",
    "You can read more about it in a dedicated [OSM extracts example](../advanced_examples/osm_extracts/#display-available-osm-extracts).\n",
    "\n",
    "Without providing an OSM extract source (`--osm-extract-source`), all sources will be displayed at once.\n",
    "\n",
    "<style>\n",
    "div.jp-Cell-outputArea pre {\n",
    "  overflow-y: auto;\n",
    "  max-height: 50vh;\n",
    "}\n",
    "</style>"
   ]
  },
  {
   "cell_type": "code",
   "execution_count": null,
   "metadata": {
    "vscode": {
     "languageId": "shellscript"
    }
   },
   "outputs": [],
   "source": [
    "! OvertureMaestro --show-theme-type-pairs"
   ]
  },
  {
   "cell_type": "markdown",
   "metadata": {},
   "source": [
    "Let's see the example based on the London region."
   ]
  },
  {
   "cell_type": "markdown",
   "metadata": {},
   "source": [
    "### Buildings"
   ]
  },
  {
   "cell_type": "code",
   "execution_count": null,
   "metadata": {
    "vscode": {
     "languageId": "shellscript"
    }
   },
   "outputs": [],
   "source": [
    "! OvertureMaestro buildings building --geom-filter-geocode \"City of London\" --silent --output files/london_buildings_example.parquet"
   ]
  },
  {
   "cell_type": "markdown",
   "metadata": {},
   "source": [
    "### Places"
   ]
  },
  {
   "cell_type": "code",
   "execution_count": null,
   "metadata": {
    "vscode": {
     "languageId": "shellscript"
    }
   },
   "outputs": [],
   "source": [
    "! OvertureMaestro places place --geom-filter-geocode \"City of London\" --silent --output files/london_places_example.parquet"
   ]
  },
  {
   "cell_type": "markdown",
   "metadata": {},
   "source": [
    "### Water"
   ]
  },
  {
   "cell_type": "code",
   "execution_count": null,
   "metadata": {
    "vscode": {
     "languageId": "shellscript"
    }
   },
   "outputs": [],
   "source": [
    "! OvertureMaestro base water --geom-filter-geocode \"City of London\" --silent --output files/london_water_example.parquet"
   ]
  },
  {
   "cell_type": "markdown",
   "metadata": {},
   "source": [
    "### Roads"
   ]
  },
  {
   "cell_type": "code",
   "execution_count": null,
   "metadata": {
    "vscode": {
     "languageId": "shellscript"
    }
   },
   "outputs": [],
   "source": [
    "! OvertureMaestro transportation segment --geom-filter-geocode \"City of London\" \\\n",
    "    --filter \"subtype == road\" --silent --output files/london_roads_example.parquet"
   ]
  },
  {
   "cell_type": "markdown",
   "metadata": {},
   "source": [
    "Plot all different types of features for comparison"
   ]
  },
  {
   "cell_type": "code",
   "execution_count": null,
   "metadata": {},
   "outputs": [],
   "source": [
    "import matplotlib.pyplot as plt\n",
    "\n",
    "from overturemaestro import geocode_to_geometry\n",
    "\n",
    "geometry_filter = gpd.GeoSeries([geocode_to_geometry(\"City of London\")], crs=4326)\n",
    "bounds = geometry_filter.total_bounds\n",
    "geometry_types = [\"water\", \"roads\", \"buildings\", \"places\"]\n",
    "colors = [\"#118AB2\", \"#073B4C\", \"#06D6A0\", \"#FFD166\"]\n",
    "\n",
    "fig, axs = plt.subplot_mosaic(\n",
    "    \"\"\"\n",
    "    aa\n",
    "    aa\n",
    "    bp\n",
    "    rw\n",
    "    \"\"\",\n",
    "    figsize=(10, 12),\n",
    "    layout=\"constrained\",\n",
    ")\n",
    "\n",
    "main_ax = axs[\"a\"]\n",
    "main_ax.set_title(\"City of London\")\n",
    "\n",
    "for geometry_type, color in zip(geometry_types, colors):\n",
    "    filename = f\"files/london_{geometry_type}_example.parquet\"\n",
    "    gdf = gpd.read_parquet(filename, columns=[\"geometry\"])\n",
    "    for ax in (main_ax, axs[geometry_type[0]]):\n",
    "        gdf.plot(ax=ax, markersize=1, zorder=1, alpha=0.8, color=color)\n",
    "\n",
    "for geometry_type in geometry_types:\n",
    "    axs[geometry_type[0]].set_title(geometry_type.capitalize())\n",
    "\n",
    "for key, ax in axs.items():\n",
    "    ax.set_xlim([bounds[0] - 0.001, bounds[2] + 0.001])\n",
    "    ax.set_ylim([bounds[1] - 0.001, bounds[3] + 0.001])\n",
    "\n",
    "    if key == \"a\":\n",
    "        continue\n",
    "\n",
    "    geometry_filter.plot(\n",
    "        ax=ax,\n",
    "        color=(0, 0, 0, 0),\n",
    "        zorder=2,\n",
    "        edgecolor=\"#EF476F\",\n",
    "        linewidth=1.5,\n",
    "    )\n",
    "    ax.set_axis_off()\n"
   ]
  },
  {
   "cell_type": "markdown",
   "metadata": {},
   "source": [
    "## PyArrow filters\n",
    "\n",
    "By default, `OvertureMaestro` loads all of the features intersecting given geometry.\n",
    "\n",
    "Hovewer, there is also an option to pass filters (`--filter` or `--pyarrow-filter`) used by PyArrow during downloading step.\n",
    "\n",
    "Filters are expected to be strings in this format: `<column name(s)> <operator> <value>`.\n",
    "\n",
    "Examples: `confidence > 0.95`, `subtype == road`, `categories,primary = museum`.\n",
    "\n",
    "Passed strings are parsed to [`pyarrow.Expression`](https://arrow.apache.org/docs/python/generated/pyarrow.dataset.Expression.html#pyarrow.dataset.Expression). Multiple filters can be passed to the CLI.\n",
    "\n",
    "You can read abaout every dataset type schema and available fields [here](https://docs.overturemaps.org/schema/reference/).\n",
    "\n",
    "Note: **Overture Maps** schema can change between release versions."
   ]
  },
  {
   "cell_type": "markdown",
   "metadata": {},
   "source": [
    "### Load only rivers"
   ]
  },
  {
   "cell_type": "code",
   "execution_count": null,
   "metadata": {
    "vscode": {
     "languageId": "shellscript"
    }
   },
   "outputs": [],
   "source": [
    "! OvertureMaestro base water --filter \"subtype = river\" \\\n",
    "    --geom-filter-bbox \"17.010921,51.093406,17.054266,51.122229\" \\\n",
    "    --output files/wroclaw_rivers_example.parquet"
   ]
  },
  {
   "cell_type": "code",
   "execution_count": null,
   "metadata": {
    "vscode": {
     "languageId": "shellscript"
    }
   },
   "outputs": [],
   "source": [
    "! pixel-map files/wroclaw_rivers_example.parquet --width 82 --height 23 --renderer ascii-bw"
   ]
  },
  {
   "cell_type": "markdown",
   "metadata": {},
   "source": [
    "### Load railroads"
   ]
  },
  {
   "cell_type": "code",
   "execution_count": null,
   "metadata": {
    "vscode": {
     "languageId": "shellscript"
    }
   },
   "outputs": [],
   "source": [
    "! OvertureMaestro transportation segment --filter \"subtype = rail\" \\\n",
    "    --geom-filter-bbox \"17.010921,51.093406,17.054266,51.122229\" \\\n",
    "    --output files/wroclaw_rail_example.parquet"
   ]
  },
  {
   "cell_type": "code",
   "execution_count": null,
   "metadata": {
    "vscode": {
     "languageId": "shellscript"
    }
   },
   "outputs": [],
   "source": [
    "! ./duckdb :memory: \".mode line\" \"FROM 'files/wroclaw_rail_example.parquet' LIMIT 1\";"
   ]
  },
  {
   "cell_type": "markdown",
   "metadata": {},
   "source": [
    "### Load museums with a high confidence score\n",
    "\n",
    "Here, the nested field `categories.primary` have to be accessed using comma delimited syntax."
   ]
  },
  {
   "cell_type": "code",
   "execution_count": null,
   "metadata": {
    "vscode": {
     "languageId": "shellscript"
    }
   },
   "outputs": [],
   "source": [
    "! OvertureMaestro places place --filter \"categories,primary = museum\" --filter \"confidence > 0.9\" \\\n",
    "    --geom-filter-bbox \"17.010921,51.093406,17.054266,51.122229\" \\\n",
    "    --output files/wroclaw_museums_example.parquet"
   ]
  },
  {
   "cell_type": "code",
   "execution_count": null,
   "metadata": {},
   "outputs": [],
   "source": [
    "! ./duckdb :memory: \"SELECT names['primary'], ROUND(confidence, 4) confidence FROM 'files/wroclaw_museums_example.parquet'\";"
   ]
  }
 ],
 "metadata": {
  "kernelspec": {
   "display_name": ".venv",
   "language": "python",
   "name": "python3"
  },
  "language_info": {
   "codemirror_mode": {
    "name": "ipython",
    "version": 3
   },
   "file_extension": ".py",
   "mimetype": "text/x-python",
   "name": "python",
   "nbconvert_exporter": "python",
   "pygments_lexer": "ipython3",
   "version": "3.11.7"
  }
 },
 "nbformat": 4,
 "nbformat_minor": 2
}
