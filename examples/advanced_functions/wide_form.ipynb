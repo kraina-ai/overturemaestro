{
 "cells": [
  {
   "cell_type": "markdown",
   "metadata": {},
   "source": [
    "# Wide format \n",
    "\n",
    "**OvertureMaestro** implements a logic for transforming downloaded data into a `wide` format. This format is dedicated for geospatial machine learning usage, where selected datasets are pivoted based on their categories to a columnar format.\n",
    "\n",
    "This notebook will explore what is this format and how to work with it."
   ]
  },
  {
   "cell_type": "markdown",
   "metadata": {},
   "source": [
    "## New functions\n",
    "\n",
    "New module contains the same set of functions as the basic api, just with the `wide_form` part inside:\n",
    "\n",
    "* `convert_geometry_to_parquet` -> <code>convert_geometry_to_<strong>wide_form</strong>_parquet</code>\n",
    "* `convert_geometry_to_geodataframe` -> <code>convert_geometry_to_<strong>wide_form</strong>_geodataframe</code>\n",
    "* other functions ...\n",
    "\n",
    "Additionally, special functions for downloading all available datasets are available:\n",
    "\n",
    "* `convert_geometry_to_wide_form_parquet_for_all_types`\n",
    "* `convert_geometry_to_wide_form_geodataframe_for_all_types`\n",
    "* `convert_bounding_box_to_wide_form_parquet_for_all_types`\n",
    "* `convert_bounding_box_to_wide_form_geodataframe_for_all_types`\n",
    "\n",
    "You can import them from the `overturemaestro.advanced_functions` module."
   ]
  },
  {
   "cell_type": "code",
   "execution_count": null,
   "metadata": {},
   "outputs": [],
   "source": [
    "from overturemaestro import convert_geometry_to_geodataframe, geocode_to_geometry\n",
    "from overturemaestro.advanced_functions import convert_geometry_to_wide_form_geodataframe"
   ]
  },
  {
   "cell_type": "markdown",
   "metadata": {},
   "source": [
    "## What is the wide format?\n",
    "\n",
    "In this section we will compare how the original data format differs from the wide format based on water data.\n",
    "\n",
    "Let's start by looking at the official Overture Maps schema for the base water data type:"
   ]
  },
  {
   "cell_type": "code",
   "execution_count": null,
   "metadata": {},
   "outputs": [],
   "source": [
    "import requests\n",
    "import yaml\n",
    "\n",
    "response = requests.get(\n",
    "    \"https://raw.githubusercontent.com/OvertureMaps/schema/refs/tags/v1.4.0/schema/base/water.yaml\",\n",
    "    allow_redirects=True,\n",
    ")\n",
    "water_schema = yaml.safe_load(response.content.decode(\"utf-8\"))\n",
    "water_schema"
   ]
  },
  {
   "cell_type": "markdown",
   "metadata": {},
   "source": [
    "Two required fields are defined in the specification: **`subtype`** and **`class`**. There are even lists of possible values defined.\n",
    "\n",
    "Both of these values detail the meaning of the object. Together, everything maps to the path:\n",
    "\n",
    "`theme` (base) → `type` (water) → `subtype` (eg. reservoir) → `class` (eg. basin).\n",
    "\n",
    "Based on this hierarchy, all available values can be determined and mapped to columns.\n",
    "\n",
    "In this way, you will obtain data in a **wide** format, where each object defines what it is with boolean flags."
   ]
  },
  {
   "cell_type": "code",
   "execution_count": null,
   "metadata": {},
   "outputs": [],
   "source": [
    "# porto = geocode_to_geometry(\"Porto\")\n",
    "amsterdam = geocode_to_geometry(\"Amsterdam\")\n",
    "\n",
    "original_data = convert_geometry_to_geodataframe(\"base\", \"water\", amsterdam)\n",
    "wide_data = convert_geometry_to_wide_form_geodataframe(\n",
    "    \"base\", \"water\", amsterdam, ignore_cache=True\n",
    ")"
   ]
  },
  {
   "cell_type": "code",
   "execution_count": null,
   "metadata": {},
   "outputs": [],
   "source": [
    "original_data"
   ]
  },
  {
   "cell_type": "code",
   "execution_count": null,
   "metadata": {},
   "outputs": [],
   "source": [
    "wide_data"
   ]
  },
  {
   "cell_type": "markdown",
   "metadata": {},
   "source": [
    "Using this format, we can quickly filter out data or calculate number of objects per category."
   ]
  },
  {
   "cell_type": "code",
   "execution_count": null,
   "metadata": {},
   "outputs": [],
   "source": [
    "wide_data.drop(columns=\"geometry\").sum().sort_values(ascending=False)"
   ]
  }
 ],
 "metadata": {
  "kernelspec": {
   "display_name": ".venv",
   "language": "python",
   "name": "python3"
  },
  "language_info": {
   "codemirror_mode": {
    "name": "ipython",
    "version": 3
   },
   "file_extension": ".py",
   "mimetype": "text/x-python",
   "name": "python",
   "nbconvert_exporter": "python",
   "pygments_lexer": "ipython3",
   "version": "3.10.12"
  }
 },
 "nbformat": 4,
 "nbformat_minor": 2
}
