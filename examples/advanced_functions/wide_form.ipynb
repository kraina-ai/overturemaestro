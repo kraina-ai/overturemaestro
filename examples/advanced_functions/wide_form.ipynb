{
 "cells": [
  {
   "cell_type": "markdown",
   "metadata": {},
   "source": [
    "# Wide format \n",
    "\n",
    "**OvertureMaestro** implements a logic for transforming downloaded data into a `wide` format. This format is dedicated for geospatial machine learning usage, where selected datasets are pivoted based on their categories to a columnar format.\n",
    "\n",
    "This notebook will explore what is this format and how to work with it."
   ]
  },
  {
   "cell_type": "markdown",
   "metadata": {},
   "source": [
    "## New functions\n",
    "\n",
    "New module contains the same set of functions as the basic api, just with the `wide_form` part inside:\n",
    "\n",
    "* `convert_geometry_to_parquet` → <code>convert_geometry_to_<strong>wide_form</strong>_parquet</code>\n",
    "* `convert_geometry_to_geodataframe` → <code>convert_geometry_to_<strong>wide_form</strong>_geodataframe</code>\n",
    "* other functions ...\n",
    "\n",
    "Additionally, special functions for downloading all available datasets are available:\n",
    "\n",
    "* `convert_geometry_to_wide_form_parquet_for_all_types`\n",
    "* `convert_geometry_to_wide_form_geodataframe_for_all_types`\n",
    "* `convert_bounding_box_to_wide_form_parquet_for_all_types`\n",
    "* `convert_bounding_box_to_wide_form_geodataframe_for_all_types`\n",
    "\n",
    "You can import them from the `overturemaestro.advanced_functions` module."
   ]
  },
  {
   "cell_type": "code",
   "execution_count": null,
   "metadata": {},
   "outputs": [],
   "source": [
    "from overturemaestro import convert_geometry_to_geodataframe, geocode_to_geometry\n",
    "from overturemaestro.advanced_functions import convert_geometry_to_wide_form_geodataframe"
   ]
  },
  {
   "cell_type": "markdown",
   "metadata": {},
   "source": [
    "## What is the wide format?\n",
    "\n",
    "In this section we will compare how the original data format differs from the wide format based on water data.\n",
    "\n",
    "Let's start by looking at the official Overture Maps schema for the base water data type:"
   ]
  },
  {
   "cell_type": "code",
   "execution_count": null,
   "metadata": {},
   "outputs": [],
   "source": [
    "import requests\n",
    "import yaml\n",
    "\n",
    "response = requests.get(\n",
    "    \"https://raw.githubusercontent.com/OvertureMaps/schema/refs/tags/v1.4.0/schema/base/water.yaml\",\n",
    "    allow_redirects=True,\n",
    ")\n",
    "water_schema = yaml.safe_load(response.content.decode(\"utf-8\"))\n",
    "water_schema"
   ]
  },
  {
   "cell_type": "markdown",
   "metadata": {},
   "source": [
    "Two required fields are defined in the specification: **`subtype`** and **`class`**. There are even lists of possible values defined.\n",
    "\n",
    "Both of these values detail the meaning of the feature. Together, everything maps to the path:\n",
    "\n",
    "`theme` (base) → `type` (water) → `subtype` (eg. reservoir) → `class` (eg. basin).\n",
    "\n",
    "Based on this hierarchy, all available values can be determined and mapped to columns.\n",
    "\n",
    "In this way, you will obtain data in a **wide** format, where each feature defines what it is with boolean flags."
   ]
  },
  {
   "cell_type": "code",
   "execution_count": null,
   "metadata": {},
   "outputs": [],
   "source": [
    "amsterdam = geocode_to_geometry(\"Amsterdam\")\n",
    "\n",
    "original_data = convert_geometry_to_geodataframe(\"base\", \"water\", amsterdam)\n",
    "wide_data = convert_geometry_to_wide_form_geodataframe(\"base\", \"water\", amsterdam)"
   ]
  },
  {
   "cell_type": "code",
   "execution_count": null,
   "metadata": {},
   "outputs": [],
   "source": [
    "original_data"
   ]
  },
  {
   "cell_type": "code",
   "execution_count": null,
   "metadata": {},
   "outputs": [],
   "source": [
    "wide_data"
   ]
  },
  {
   "cell_type": "markdown",
   "metadata": {},
   "source": [
    "Using this format, we can quickly filter out data or calculate number of features per category."
   ]
  },
  {
   "cell_type": "code",
   "execution_count": null,
   "metadata": {},
   "outputs": [],
   "source": [
    "wide_data.drop(columns=\"geometry\").sum().sort_values(ascending=False)"
   ]
  },
  {
   "cell_type": "markdown",
   "metadata": {},
   "source": [
    "Each theme type has defined list of columns used for generating final list of columns.\n",
    "\n",
    "Most of the datasets have two columns (`subtype` and `class`) with three exceptions:\n",
    "- `base|land_cover` → `subtype` only\n",
    "- `transportation|segment` → `subtype`, `class` and **`subclass`**\n",
    "- `places|place` → `categories.primary` and `categories.alternative` (this one is described in detail [below](#places))"
   ]
  },
  {
   "cell_type": "code",
   "execution_count": null,
   "metadata": {},
   "outputs": [],
   "source": [
    "from overturemaestro.advanced_functions.wide_form import THEME_TYPE_CLASSIFICATION\n",
    "\n",
    "for (theme_value, type_value), definition in sorted(THEME_TYPE_CLASSIFICATION.items()):\n",
    "    print(theme_value, type_value, definition.hierachy_columns)"
   ]
  },
  {
   "cell_type": "markdown",
   "metadata": {},
   "source": [
    "## Multiple data types\n",
    "\n",
    "You can also download data for multiple data theme/types at once, or even download all at once.\n",
    "\n",
    "If some datasets have been downloaded during previous executions, then only missing data is downloaded.\n",
    "\n",
    "Here we will look at the top 10 most common features for both examples."
   ]
  },
  {
   "cell_type": "code",
   "execution_count": null,
   "metadata": {},
   "outputs": [],
   "source": [
    "from overturemaestro.advanced_functions import (\n",
    "    convert_geometry_to_wide_form_geodataframe_for_all_types,\n",
    "    convert_geometry_to_wide_form_geodataframe_for_multiple_types,\n",
    ")\n",
    "\n",
    "two_datasets_gdf = convert_geometry_to_wide_form_geodataframe_for_multiple_types(\n",
    "    [(\"base\", \"water\"), (\"base\", \"land_cover\")], amsterdam\n",
    ")\n",
    "two_datasets_gdf.drop(columns=\"geometry\").sum().sort_values(ascending=False).head(10)"
   ]
  },
  {
   "cell_type": "code",
   "execution_count": null,
   "metadata": {},
   "outputs": [],
   "source": [
    "len(two_datasets_gdf.columns)"
   ]
  },
  {
   "cell_type": "code",
   "execution_count": null,
   "metadata": {},
   "outputs": [],
   "source": [
    "all_datasets_gdf = convert_geometry_to_wide_form_geodataframe_for_all_types(amsterdam)\n",
    "all_datasets_gdf.drop(columns=\"geometry\").sum().sort_values(ascending=False).head(10)"
   ]
  },
  {
   "cell_type": "code",
   "execution_count": null,
   "metadata": {},
   "outputs": [],
   "source": [
    "len(all_datasets_gdf.columns)"
   ]
  },
  {
   "cell_type": "markdown",
   "metadata": {},
   "source": [
    "## Limiting hierarchy depth\n",
    "\n",
    "If for some reason you want to only have higher level aggregation of the data, you can limit the hierarchy depth of the data.\n",
    "\n",
    "By default full hierarchy is used to generate the columns.\n",
    "\n",
    "<div class=\"admonition note\">\n",
    "    <p class=\"admonition-title\">Note</p>\n",
    "    <p>\n",
    "        If you pass too high value, it will be automatically capped to the highest possible for a given theme/type pair.\n",
    "    </p>\n",
    "</div>"
   ]
  },
  {
   "cell_type": "code",
   "execution_count": null,
   "metadata": {},
   "outputs": [],
   "source": [
    "limited_depth_water_gdf = convert_geometry_to_wide_form_geodataframe(\n",
    "    \"base\", \"water\", amsterdam, hierarchy_depth=1\n",
    ")\n",
    "limited_depth_water_gdf.drop(columns=\"geometry\").sum()"
   ]
  },
  {
   "cell_type": "code",
   "execution_count": null,
   "metadata": {},
   "outputs": [],
   "source": [
    "limited_depth_all_gdf = convert_geometry_to_wide_form_geodataframe_for_all_types(\n",
    "    amsterdam, hierarchy_depth=0\n",
    ")\n",
    "limited_depth_all_gdf.drop(columns=\"geometry\").sum()"
   ]
  },
  {
   "cell_type": "markdown",
   "metadata": {},
   "source": [
    "## Places\n",
    "\n",
    "Places data have different schema than other datasets and it's the only one with possible multiple categories at once: `primary` and optional multiple `alternative`.\n",
    "\n",
    "This structure is preserved in the `wide` format and it's the only dataset where a single feature can have multiple `True` values in the columns.\n",
    "\n",
    "Using the `hirerarchy_depth` of 1 results in keeping only `primary` category of the feature.\n",
    "\n",
    "There are two pyarrow filters applied automatically when downloading the data for the `wide` format: `confidence` value >= 0.75 and `categories` cannot be empty."
   ]
  },
  {
   "cell_type": "code",
   "execution_count": null,
   "metadata": {},
   "outputs": [],
   "source": [
    "import pyarrow.compute as pc\n",
    "\n",
    "category_not_null_filter = pc.invert(pc.field(\"categories\").is_null())\n",
    "minimal_confidence_filter = pc.field(\"confidence\") >= pc.scalar(0.75)\n",
    "combined_filter = category_not_null_filter & minimal_confidence_filter\n",
    "\n",
    "original_places_data = convert_geometry_to_geodataframe(\n",
    "    \"places\",\n",
    "    \"place\",\n",
    "    amsterdam,\n",
    "    pyarrow_filter=combined_filter,\n",
    "    columns_to_download=[\"id\", \"geometry\", \"categories\", \"confidence\"],\n",
    ")\n",
    "original_places_data"
   ]
  },
  {
   "cell_type": "code",
   "execution_count": null,
   "metadata": {},
   "outputs": [],
   "source": [
    "first_index = (\n",
    "    # Find first object with at least one alternate category\n",
    "    original_places_data[original_places_data.categories.str.get(\"alternate\").str.len() > 1]\n",
    "    .iloc[0]\n",
    "    .name\n",
    ")\n",
    "\n",
    "first_index, original_places_data.loc[first_index].categories"
   ]
  },
  {
   "cell_type": "code",
   "execution_count": null,
   "metadata": {},
   "outputs": [],
   "source": [
    "wide_form_places_data = convert_geometry_to_wide_form_geodataframe(\"places\", \"place\", amsterdam)\n",
    "wide_form_places_data"
   ]
  },
  {
   "cell_type": "markdown",
   "metadata": {},
   "source": [
    "As you can see, only those features existing in the `categories` column are `True` and the rest is `False`."
   ]
  },
  {
   "cell_type": "code",
   "execution_count": null,
   "metadata": {},
   "outputs": [],
   "source": [
    "wide_form_places_data.loc[first_index].drop(\"geometry\").sort_values(ascending=False)"
   ]
  },
  {
   "cell_type": "markdown",
   "metadata": {},
   "source": [
    "After limiting the `hierarchy_depth` only one value is positive - the `primary` category."
   ]
  },
  {
   "cell_type": "code",
   "execution_count": null,
   "metadata": {},
   "outputs": [],
   "source": [
    "limited_depth_wide_form_places_data = convert_geometry_to_wide_form_geodataframe(\n",
    "    \"places\", \"place\", amsterdam, hierarchy_depth=1\n",
    ")\n",
    "limited_depth_wide_form_places_data.loc[first_index].drop(\"geometry\").sort_values(ascending=False)"
   ]
  },
  {
   "cell_type": "markdown",
   "metadata": {},
   "source": [
    "Below you can see the difference in the counts of `True` values across all columns."
   ]
  },
  {
   "cell_type": "code",
   "execution_count": null,
   "metadata": {},
   "outputs": [],
   "source": [
    "wide_form_places_data.drop(columns=\"geometry\").sum().sort_values(ascending=False)"
   ]
  },
  {
   "cell_type": "code",
   "execution_count": null,
   "metadata": {},
   "outputs": [],
   "source": [
    "limited_depth_wide_form_places_data.drop(columns=\"geometry\").sum().sort_values(ascending=False)"
   ]
  },
  {
   "cell_type": "markdown",
   "metadata": {},
   "source": [
    "## Pruning final list of columns\n",
    "\n",
    "By default, `OvertureMaestro` includes all possible columns regardless of whether any features of a given category exist.\n",
    "\n",
    "This is done to keep the overall schema consistent for different geographical regions and simplifying the feature engineering process.\n",
    "\n",
    "However, there is a dedicated parameter `include_all_possible_columns` that can be set to `False` to keep only columns based on actually existing features."
   ]
  },
  {
   "cell_type": "code",
   "execution_count": null,
   "metadata": {},
   "outputs": [],
   "source": [
    "convert_geometry_to_wide_form_geodataframe(\n",
    "    \"base\", \"infrastructure\", amsterdam, include_all_possible_columns=True  # default value\n",
    ")"
   ]
  },
  {
   "cell_type": "code",
   "execution_count": null,
   "metadata": {},
   "outputs": [],
   "source": [
    "convert_geometry_to_wide_form_geodataframe(\n",
    "    \"base\", \"infrastructure\", amsterdam, include_all_possible_columns=False\n",
    ")"
   ]
  },
  {
   "cell_type": "markdown",
   "metadata": {},
   "source": [
    "## Getting a full list of possible column names\n",
    "\n",
    "You can also preview the final list of columns before downloading the data using `get_all_possible_column_names` function.\n",
    "\n",
    "You can specify the `release`, `theme` and `type`, as well as `hierarchy_depth`."
   ]
  },
  {
   "cell_type": "code",
   "execution_count": null,
   "metadata": {},
   "outputs": [],
   "source": [
    "from overturemaestro.advanced_functions.wide_form import get_all_possible_column_names\n",
    "\n",
    "get_all_possible_column_names(theme=\"base\", type=\"water\")"
   ]
  },
  {
   "cell_type": "markdown",
   "metadata": {},
   "source": [
    "With all parameters empty, function will return a full list of all possible columns with maximal depth."
   ]
  },
  {
   "cell_type": "code",
   "execution_count": null,
   "metadata": {},
   "outputs": [],
   "source": [
    "columns = get_all_possible_column_names()\n",
    "len(columns)"
   ]
  },
  {
   "cell_type": "code",
   "execution_count": null,
   "metadata": {},
   "outputs": [],
   "source": [
    "columns[:10]"
   ]
  },
  {
   "cell_type": "markdown",
   "metadata": {},
   "source": [
    "You can also specify different `hierarchy_depth` values."
   ]
  },
  {
   "cell_type": "code",
   "execution_count": null,
   "metadata": {},
   "outputs": [],
   "source": [
    "get_all_possible_column_names(theme=\"transportation\", type=\"segment\", hierarchy_depth=1)"
   ]
  }
 ],
 "metadata": {
  "kernelspec": {
   "display_name": ".venv",
   "language": "python",
   "name": "python3"
  },
  "language_info": {
   "codemirror_mode": {
    "name": "ipython",
    "version": 3
   },
   "file_extension": ".py",
   "mimetype": "text/x-python",
   "name": "python",
   "nbconvert_exporter": "python",
   "pygments_lexer": "ipython3",
   "version": "3.10.12"
  }
 },
 "nbformat": 4,
 "nbformat_minor": 2
}
