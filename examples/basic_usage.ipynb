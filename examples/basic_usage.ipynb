{
 "cells": [
  {
   "cell_type": "markdown",
   "metadata": {},
   "source": [
    "# OvertureMaestro Basic Usage\n",
    "\n",
    "**OvertureMaestro** exposes some basic functions in the main Python module. Full documentation for them is available [here](../../api/OvertureMaestro/).\n",
    "\n",
    "This notebook will show how to use the library in a few simple scenarios.\n",
    "\n",
    "To learn more about `CLI` usage, see [this page](../command_line_interface/). The `help` page for the CLI is available [here](../../api/CLI/)."
   ]
  },
  {
   "cell_type": "code",
   "execution_count": null,
   "metadata": {},
   "outputs": [],
   "source": [
    "import overturemaestro as om"
   ]
  },
  {
   "cell_type": "markdown",
   "metadata": {},
   "source": [
    "## Get the data for a region to GeoDataFrame"
   ]
  },
  {
   "cell_type": "markdown",
   "metadata": {},
   "source": [
    "### Without release version\n",
    "\n",
    "If release version is omitted - **OvertureMaestro** automatically searches for the newest available version and applies it."
   ]
  },
  {
   "cell_type": "code",
   "execution_count": null,
   "metadata": {},
   "outputs": [],
   "source": [
    "london_bbox = (-0.120077, 51.498164, -0.090809, 51.508849)"
   ]
  },
  {
   "cell_type": "code",
   "execution_count": null,
   "metadata": {},
   "outputs": [],
   "source": [
    "buildings_gdf = om.convert_bounding_box_to_geodataframe(\n",
    "    theme=\"buildings\", type=\"building\", bbox=london_bbox\n",
    ")\n",
    "buildings_gdf"
   ]
  },
  {
   "cell_type": "markdown",
   "metadata": {},
   "source": [
    "### With release version\n",
    "\n",
    "Release version can also be passed explicitly."
   ]
  },
  {
   "cell_type": "code",
   "execution_count": null,
   "metadata": {},
   "outputs": [],
   "source": [
    "overture_maps_release = \"2024-08-20.0\""
   ]
  },
  {
   "cell_type": "code",
   "execution_count": null,
   "metadata": {},
   "outputs": [],
   "source": [
    "roads_gdf = om.convert_bounding_box_to_geodataframe(\n",
    "    release=overture_maps_release, theme=\"transportation\", type=\"segment\", bbox=london_bbox\n",
    ")\n",
    "roads_gdf"
   ]
  },
  {
   "cell_type": "markdown",
   "metadata": {},
   "source": [
    "### With PyArrow filtering\n",
    "**OvertureMaestro** enables passing optional PyArrow filter used during data acquisition."
   ]
  },
  {
   "cell_type": "code",
   "execution_count": null,
   "metadata": {},
   "outputs": [],
   "source": [
    "water_gdf = om.convert_bounding_box_to_geodataframe(\n",
    "    theme=\"base\", type=\"water\", bbox=london_bbox, pyarrow_filter=[(\"subtype\", \"=\", \"river\")]\n",
    ")\n",
    "water_gdf"
   ]
  },
  {
   "cell_type": "markdown",
   "metadata": {},
   "source": [
    "Colours inspired by https://snazzymaps.com/style/144886"
   ]
  },
  {
   "cell_type": "code",
   "execution_count": null,
   "metadata": {},
   "outputs": [],
   "source": [
    "ax = buildings_gdf.plot(color=\"#f7cda9\", zorder=3)\n",
    "roads_gdf.plot(ax=ax, color=\"#cc7578\", zorder=1)\n",
    "water_gdf.plot(ax=ax, color=\"#97b5bf\", zorder=2)\n",
    "ax.set_xlim([london_bbox[0], london_bbox[2]])\n",
    "ax.set_ylim([london_bbox[1], london_bbox[3]])\n",
    "ax.set_axis_off()"
   ]
  },
  {
   "cell_type": "markdown",
   "metadata": {},
   "source": [
    "## Metadata functions\n",
    "\n",
    "OvertureMaestro exposes some metadata functions for the user."
   ]
  },
  {
   "cell_type": "markdown",
   "metadata": {},
   "source": [
    "### Get all available release versions\n",
    "\n",
    "List of available releases is downloaded from the accompanying [GitHub repository](https://github.com/kraina-ai/overturemaps-releases-indexes/) with precalculated indexes."
   ]
  },
  {
   "cell_type": "code",
   "execution_count": null,
   "metadata": {},
   "outputs": [],
   "source": [
    "om.get_all_available_release_versions()"
   ]
  },
  {
   "cell_type": "markdown",
   "metadata": {},
   "source": [
    "### Get newest available releave version"
   ]
  },
  {
   "cell_type": "code",
   "execution_count": null,
   "metadata": {},
   "outputs": [],
   "source": [
    "om.get_newest_release_version()"
   ]
  },
  {
   "cell_type": "markdown",
   "metadata": {},
   "source": [
    "### List all available theme/type pairs\n",
    "\n",
    "Overture Maps data uses `themes` and `types` to partition the dataset by function. User can retrieve this list for any available release version supported by **OvertureMaestro**.\n",
    "\n",
    "Full definition is explained in the [official schema documentation](https://docs.overturemaps.org/schema/concepts/).\n",
    "\n",
    "Currently function requires downloading the release index beforehand, since it uses cached indexes to display the values."
   ]
  },
  {
   "cell_type": "code",
   "execution_count": null,
   "metadata": {},
   "outputs": [],
   "source": [
    "om.get_available_theme_type_pairs(overture_maps_release)"
   ]
  },
  {
   "cell_type": "markdown",
   "metadata": {},
   "source": [
    "Release version can also be infered implicitly - it will automatically load newest release version."
   ]
  },
  {
   "cell_type": "code",
   "execution_count": null,
   "metadata": {},
   "outputs": [],
   "source": [
    "om.get_available_theme_type_pairs()"
   ]
  }
 ],
 "metadata": {
  "kernelspec": {
   "display_name": ".venv",
   "language": "python",
   "name": "python3"
  },
  "language_info": {
   "codemirror_mode": {
    "name": "ipython",
    "version": 3
   },
   "file_extension": ".py",
   "mimetype": "text/x-python",
   "name": "python",
   "nbconvert_exporter": "python",
   "pygments_lexer": "ipython3",
   "version": "3.10.12"
  }
 },
 "nbformat": 4,
 "nbformat_minor": 2
}
