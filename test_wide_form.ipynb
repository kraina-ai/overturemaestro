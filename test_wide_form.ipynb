{
 "cells": [
  {
   "cell_type": "code",
   "execution_count": null,
   "metadata": {},
   "outputs": [],
   "source": [
    "import overturemaestro as om\n",
    "import duckdb\n",
    "import geopandas as gpd"
   ]
  },
  {
   "cell_type": "code",
   "execution_count": null,
   "metadata": {},
   "outputs": [],
   "source": [
    "pqf = om.convert_geometry_to_parquet(\n",
    "    \"transportation\", \"segment\", geometry_filter=om.geocode_to_geometry(\"Wrocław\")\n",
    ")\n",
    "pqf"
   ]
  },
  {
   "cell_type": "code",
   "execution_count": null,
   "metadata": {},
   "outputs": [],
   "source": [
    "# osm_tag_keys = set()\n",
    "# found_tag_keys = [\n",
    "#     row[0]\n",
    "#     for row in self.connection.sql(\n",
    "#         f\"\"\"\n",
    "#         SELECT DISTINCT UNNEST(map_keys(tags)) tag_key\n",
    "#         FROM ({parsed_geometries.sql_query()})\n",
    "#         \"\"\"\n",
    "#     ).fetchall()\n",
    "# ]"
   ]
  },
  {
   "cell_type": "code",
   "execution_count": null,
   "metadata": {},
   "outputs": [],
   "source": [
    "wide_column_definitions = (\n",
    "    duckdb.sql(\n",
    "        f\"\"\"\n",
    "    SELECT DISTINCT\n",
    "        subtype, class, subclass,\n",
    "        concat_ws('|', subtype, class, subclass) as column_name\n",
    "    FROM '{pqf}'\n",
    "    ORDER BY column_name\n",
    "    \"\"\"\n",
    "    )\n",
    "    .fetchdf()\n",
    "    .to_dict(orient=\"records\")\n",
    ")\n",
    "wide_column_definitions"
   ]
  },
  {
   "cell_type": "code",
   "execution_count": null,
   "metadata": {},
   "outputs": [],
   "source": [
    "condition_columns = [\"subtype\", \"class\", \"subclass\"]\n",
    "case_clauses = []\n",
    "\n",
    "for wide_column_definition in wide_column_definitions:\n",
    "    column_name = wide_column_definition[\"column_name\"]\n",
    "    conditions = []\n",
    "    for condition_column in condition_columns:\n",
    "        if wide_column_definition[condition_column] is None:\n",
    "            conditions.append(f\"{condition_column} IS NULL\")\n",
    "        else:\n",
    "            # TODO: escape sql value\n",
    "            escaped_value = wide_column_definition[condition_column]\n",
    "            conditions.append(f\"{condition_column} = '{escaped_value}'\")\n",
    "    case_clauses.append(\n",
    "        f'CASE WHEN {\" AND \".join(conditions)} THEN 1 ELSE 0 END AS \"{column_name}\"'\n",
    "    )\n",
    "case_clauses"
   ]
  },
  {
   "cell_type": "code",
   "execution_count": null,
   "metadata": {},
   "outputs": [],
   "source": [
    "final_query = f\"\"\"\n",
    "    SELECT\n",
    "        id,\n",
    "        {\", \".join(case_clauses)},\n",
    "        geometry\n",
    "    FROM '{pqf}'\n",
    "\"\"\"\n",
    "duckdb.sql(final_query)"
   ]
  },
  {
   "cell_type": "code",
   "execution_count": null,
   "metadata": {},
   "outputs": [],
   "source": [
    "gpd.read_parquet(pqf)"
   ]
  },
  {
   "cell_type": "code",
   "execution_count": null,
   "metadata": {},
   "outputs": [],
   "source": [
    "pqf2 = om.convert_geometry_to_parquet(\n",
    "    \"places\", \"place\", geometry_filter=om.geocode_to_geometry(\"Wrocław\")\n",
    ")\n",
    "pqf2"
   ]
  },
  {
   "cell_type": "code",
   "execution_count": null,
   "metadata": {},
   "outputs": [],
   "source": [
    "gpd.read_parquet(pqf2)"
   ]
  },
  {
   "cell_type": "code",
   "execution_count": null,
   "metadata": {},
   "outputs": [],
   "source": [
    "categories = [\n",
    "    category_row[0]\n",
    "    for category_row in duckdb.sql(\n",
    "        f\"\"\"\n",
    "        SELECT categories['primary'] category\n",
    "        FROM '{pqf2}'\n",
    "        UNION\n",
    "        SELECT UNNEST(categories['alternate']) category\n",
    "        FROM '{pqf2}'\n",
    "        \"\"\"\n",
    "    ).fetchall()\n",
    "    if category_row[0]\n",
    "]\n",
    "len(categories)"
   ]
  },
  {
   "cell_type": "code",
   "execution_count": null,
   "metadata": {},
   "outputs": [],
   "source": []
  },
  {
   "cell_type": "code",
   "execution_count": null,
   "metadata": {},
   "outputs": [],
   "source": [
    "duckdb.sql(\n",
    "    f\"\"\"\n",
    "    SELECT DISTINCT categories['primary']\n",
    "    FROM '{pqf2}'\n",
    "    \"\"\"\n",
    ")"
   ]
  },
  {
   "cell_type": "code",
   "execution_count": null,
   "metadata": {},
   "outputs": [],
   "source": [
    "def sql_escape(value: str) -> str:\n",
    "    \"\"\"Escape value for SQL query.\"\"\"\n",
    "    return value.replace(\"'\", \"''\")"
   ]
  },
  {
   "cell_type": "code",
   "execution_count": null,
   "metadata": {},
   "outputs": [],
   "source": [
    "condition_columns = [\"subtype\", \"class\", \"subclass\"]\n",
    "case_clauses = []\n",
    "\n",
    "for category in categories:\n",
    "    escaped_category = sql_escape(category)\n",
    "    if \"s_clothing_store\" in category:\n",
    "        case_clauses.append(\n",
    "            f\"\"\"\n",
    "            CASE\n",
    "            WHEN categories['primary'] = '{escaped_category}' THEN 'primary'\n",
    "            WHEN list_contains(categories['alternate'], '{escaped_category}') THEN 'alternate'\n",
    "            END AS \"{category}\"\n",
    "            \"\"\"\n",
    "        )\n",
    "    \n",
    "\n",
    "case_clauses[:10]"
   ]
  },
  {
   "cell_type": "code",
   "execution_count": null,
   "metadata": {},
   "outputs": [],
   "source": [
    "final_query = f\"\"\"\n",
    "    SELECT\n",
    "        id,\n",
    "        {\", \".join(case_clauses)},\n",
    "        geometry\n",
    "    FROM '{pqf2}'\n",
    "\"\"\"\n",
    "duckdb.sql(final_query)"
   ]
  },
  {
   "cell_type": "code",
   "execution_count": null,
   "metadata": {},
   "outputs": [],
   "source": [
    "# osm_tag_keys = set()\n",
    "# found_tag_keys = [\n",
    "#     row[0]\n",
    "#     for row in self.connection.sql(\n",
    "#         f\"\"\"\n",
    "#         SELECT DISTINCT UNNEST(map_keys(tags)) tag_key\n",
    "#         FROM ({parsed_geometries.sql_query()})\n",
    "#         \"\"\"\n",
    "#     ).fetchall()\n",
    "# ]"
   ]
  }
 ],
 "metadata": {
  "kernelspec": {
   "display_name": ".venv",
   "language": "python",
   "name": "python3"
  },
  "language_info": {
   "codemirror_mode": {
    "name": "ipython",
    "version": 3
   },
   "file_extension": ".py",
   "mimetype": "text/x-python",
   "name": "python",
   "nbconvert_exporter": "python",
   "pygments_lexer": "ipython3",
   "version": "3.10.12"
  }
 },
 "nbformat": 4,
 "nbformat_minor": 2
}
